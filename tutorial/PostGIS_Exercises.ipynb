{
 "cells": [
  {
   "cell_type": "markdown",
   "metadata": {},
   "source": [
    "# Exercises with GIS data"
   ]
  },
  {
   "cell_type": "markdown",
   "metadata": {},
   "source": [
    "We'll use the [ipython-sql](https://github.com/catherinedevlin/ipython-sql) magic (uses SQLAlchemy) to interact with our PostGIS database for convenience."
   ]
  },
  {
   "cell_type": "code",
   "execution_count": 1,
   "metadata": {
    "collapsed": true
   },
   "outputs": [],
   "source": []
  },
  {
   "cell_type": "code",
   "execution_count": 3,
   "metadata": {},
   "outputs": [],
   "source": []
  },
  {
   "cell_type": "code",
   "execution_count": 5,
   "metadata": {},
   "outputs": [
    {
     "name": "stdout",
     "output_type": "stream",
     "text": [
      "6 rows affected.\n"
     ]
    },
    {
     "data": {
      "text/html": [
       "<table>\n",
       "    <tr>\n",
       "        <th>schemaname</th>\n",
       "        <th>tablename</th>\n",
       "        <th>tableowner</th>\n",
       "        <th>tablespace</th>\n",
       "        <th>hasindexes</th>\n",
       "        <th>hasrules</th>\n",
       "        <th>hastriggers</th>\n",
       "        <th>rowsecurity</th>\n",
       "    </tr>\n",
       "    <tr>\n",
       "        <td>public</td>\n",
       "        <td>spatial_ref_sys</td>\n",
       "        <td>lucia</td>\n",
       "        <td>None</td>\n",
       "        <td>True</td>\n",
       "        <td>False</td>\n",
       "        <td>False</td>\n",
       "        <td>False</td>\n",
       "    </tr>\n",
       "    <tr>\n",
       "        <td>public</td>\n",
       "        <td>nyc_census_blocks</td>\n",
       "        <td>lucia</td>\n",
       "        <td>None</td>\n",
       "        <td>True</td>\n",
       "        <td>False</td>\n",
       "        <td>False</td>\n",
       "        <td>False</td>\n",
       "    </tr>\n",
       "    <tr>\n",
       "        <td>public</td>\n",
       "        <td>nyc_neighborhoods</td>\n",
       "        <td>lucia</td>\n",
       "        <td>None</td>\n",
       "        <td>True</td>\n",
       "        <td>False</td>\n",
       "        <td>False</td>\n",
       "        <td>False</td>\n",
       "    </tr>\n",
       "    <tr>\n",
       "        <td>public</td>\n",
       "        <td>nyc_streets</td>\n",
       "        <td>lucia</td>\n",
       "        <td>None</td>\n",
       "        <td>True</td>\n",
       "        <td>False</td>\n",
       "        <td>False</td>\n",
       "        <td>False</td>\n",
       "    </tr>\n",
       "    <tr>\n",
       "        <td>public</td>\n",
       "        <td>nyc_subway_stations</td>\n",
       "        <td>lucia</td>\n",
       "        <td>None</td>\n",
       "        <td>True</td>\n",
       "        <td>False</td>\n",
       "        <td>False</td>\n",
       "        <td>False</td>\n",
       "    </tr>\n",
       "    <tr>\n",
       "        <td>public</td>\n",
       "        <td>nyc_census_sociodata</td>\n",
       "        <td>lucia</td>\n",
       "        <td>None</td>\n",
       "        <td>True</td>\n",
       "        <td>False</td>\n",
       "        <td>False</td>\n",
       "        <td>False</td>\n",
       "    </tr>\n",
       "</table>"
      ],
      "text/plain": [
       "[('public', 'spatial_ref_sys', 'lucia', None, True, False, False, False),\n",
       " ('public', 'nyc_census_blocks', 'lucia', None, True, False, False, False),\n",
       " ('public', 'nyc_neighborhoods', 'lucia', None, True, False, False, False),\n",
       " ('public', 'nyc_streets', 'lucia', None, True, False, False, False),\n",
       " ('public', 'nyc_subway_stations', 'lucia', None, True, False, False, False),\n",
       " ('public', 'nyc_census_sociodata', 'lucia', None, True, False, False, False)]"
      ]
     },
     "execution_count": 5,
     "metadata": {},
     "output_type": "execute_result"
    }
   ],
   "source": [
    "query = \"sql SELECT * FROM pg_catalog.pg_tables where schemaname = 'public'\""
   ]
  },
  {
   "cell_type": "markdown",
   "metadata": {},
   "source": [
    "### Exercises\n",
    "\n",
    "1. Find out the area of Central Park (in km2)\n",
    "2. Find the largest neighborhood in NYC\n",
    "3. Find the largest neighborhood in Manhattan\n",
    "4. Compute the area (in m2) of Manhattan\n",
    "5. Compute the total length (in km) of all streets in NYC\n",
    "6. Find out how many subway stations there are in every NYC borough\n",
    "7. Print the JSON representation of the Union Sq subway station\n",
    "8. Compute the length in km between the subway stations World Trade Center and Bowery\n",
    "9. Find out the percentage of white population in each of the NYC boroughs\n",
    "10. Find out which subway station is in the Little Italy neighborhood and which routes it serves"
   ]
  },
  {
   "cell_type": "code",
   "execution_count": null,
   "metadata": {
    "collapsed": true
   },
   "outputs": [],
   "source": []
  }
 ],
 "metadata": {
  "kernelspec": {
   "display_name": "Python 3",
   "language": "python",
   "name": "python3"
  },
  "language_info": {
   "codemirror_mode": {
    "name": "ipython",
    "version": 3
   },
   "file_extension": ".py",
   "mimetype": "text/x-python",
   "name": "python",
   "nbconvert_exporter": "python",
   "pygments_lexer": "ipython3",
   "version": "3.7.4"
  }
 },
 "nbformat": 4,
 "nbformat_minor": 1
}
